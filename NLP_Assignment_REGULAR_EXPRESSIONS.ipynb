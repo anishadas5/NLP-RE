{
 "cells": [
  {
   "cell_type": "code",
   "execution_count": 2,
   "metadata": {},
   "outputs": [
    {
     "data": {
      "text/plain": [
       "' friendly boy has a nice dog, the dog is friendly'"
      ]
     },
     "execution_count": 2,
     "metadata": {},
     "output_type": "execute_result"
    }
   ],
   "source": [
    "import re\n",
    "#Removing occurence at the start \n",
    "re.sub(r'^the','','the friendly boy has a nice dog, the dog is friendly')"
   ]
  },
  {
   "cell_type": "code",
   "execution_count": 3,
   "metadata": {},
   "outputs": [
    {
     "data": {
      "text/plain": [
       "'the friendly boy has a nice dog, the dog is '"
      ]
     },
     "execution_count": 3,
     "metadata": {},
     "output_type": "execute_result"
    }
   ],
   "source": [
    "#Removing occurence at the end \n",
    "re.sub(r'friendly$','','the friendly boy has a nice dog, the dog is friendly')"
   ]
  },
  {
   "cell_type": "code",
   "execution_count": 4,
   "metadata": {},
   "outputs": [
    {
     "data": {
      "text/plain": [
       "'I have  rupees with me.'"
      ]
     },
     "execution_count": 4,
     "metadata": {},
     "output_type": "execute_result"
    }
   ],
   "source": [
    "#Removing numerical data\n",
    "re.sub(r'\\d+','','I have 500 rupees with me.')"
   ]
  },
  {
   "cell_type": "code",
   "execution_count": 5,
   "metadata": {},
   "outputs": [
    {
     "data": {
      "text/plain": [
       "'I have  and you have .'"
      ]
     },
     "execution_count": 5,
     "metadata": {},
     "output_type": "execute_result"
    }
   ],
   "source": [
    "#Removing currencies \n",
    "re.sub(r'[\\$\\d+\\d+\\$]','','I have 500$ and you have 200$.')\n"
   ]
  },
  {
   "cell_type": "code",
   "execution_count": 6,
   "metadata": {},
   "outputs": [
    {
     "name": "stdout",
     "output_type": "stream",
     "text": [
      "Today is \n",
      "Today is \n",
      "Today is \n"
     ]
    }
   ],
   "source": [
    "#Handling all date formats\n",
    "print(re.sub(r'\\d+[\\.\\/-]\\d+[\\.\\/-]\\d+', '', 'Today is 14-07-2021'))\n",
    "print(re.sub(r'\\d+[\\.\\/-]\\d+[\\.\\/-]\\d+', '', 'Today is 14/07/2021'))\n",
    "print(re.sub(r'\\d+[\\.\\/-]\\d+[\\.\\/-]\\d+', '', 'Today is 14.07.2021'))"
   ]
  },
  {
   "cell_type": "code",
   "execution_count": 7,
   "metadata": {},
   "outputs": [
    {
     "data": {
      "text/plain": [
       "'My website is '"
      ]
     },
     "execution_count": 7,
     "metadata": {},
     "output_type": "execute_result"
    }
   ],
   "source": [
    "#Removing a hyperlink\n",
    "re.sub(r'https?:\\/\\/.*[\\r\\n]*', '', 'My website is https://HELLO.me')"
   ]
  },
  {
   "cell_type": "code",
   "execution_count": 8,
   "metadata": {},
   "outputs": [
    {
     "name": "stdout",
     "output_type": "stream",
     "text": [
      "HELLO\n",
      "HELLO\n",
      "HELLO\n"
     ]
    }
   ],
   "source": [
    "#Extracting the main domain name of a URL\n",
    "print(re.search(r'[\\.\\/]+(.*)\\.','https://HELLO.me').group(1))\n",
    "print(re.search(r'[\\.\\/]+(.*)\\.','www.HELLO.me').group(1))\n",
    "print(re.search(r'[\\.\\/]+(.*)\\.','https://HELLO.me/about').group(1))"
   ]
  },
  {
   "cell_type": "code",
   "execution_count": 9,
   "metadata": {},
   "outputs": [
    {
     "data": {
      "text/plain": [
       "'Hi  I am   Anisha Das  Nice to meet you      '"
      ]
     },
     "execution_count": 9,
     "metadata": {},
     "output_type": "execute_result"
    }
   ],
   "source": [
    "#Removing all punctuation\n",
    "re.sub(r'[^a-z0-9A-Z_]',' ','Hi, I am : Anisha Das; Nice to meet you!!!!!!')"
   ]
  },
  {
   "cell_type": "code",
   "execution_count": 10,
   "metadata": {},
   "outputs": [
    {
     "data": {
      "text/plain": [
       "'Hi I am  Anisha ! Nice to meet you!!!!!!'"
      ]
     },
     "execution_count": 10,
     "metadata": {},
     "output_type": "execute_result"
    }
   ],
   "source": [
    "#Removing all punctuation except exclamation marks\n",
    "re.sub(r'[\\.;:,\\?\\\"\\'\\/]','','''Hi, I am :\" Anisha ! Nice to meet you!!!!!!''')"
   ]
  },
  {
   "cell_type": "code",
   "execution_count": 11,
   "metadata": {},
   "outputs": [
    {
     "data": {
      "text/plain": [
       "'Hi! I am Anisha! Nice to see you!'"
      ]
     },
     "execution_count": 11,
     "metadata": {},
     "output_type": "execute_result"
    }
   ],
   "source": [
    "# Replacing 2 or more exclamation marks with a single one\n",
    "re.sub(r'!{2,}','!','''Hi! I am Anisha!! Nice to see you!!!!!!''')"
   ]
  },
  {
   "cell_type": "code",
   "execution_count": 12,
   "metadata": {},
   "outputs": [
    {
     "data": {
      "text/plain": [
       "' Hi I am Ani. Would you like some help? '"
      ]
     },
     "execution_count": 12,
     "metadata": {},
     "output_type": "execute_result"
    }
   ],
   "source": [
    "#Replacing 2 or more whitespaces with a single one to make word spacing uniform\n",
    "re.sub(r' {2,}',' ','  Hi I  am     Ani. Would you like  some    help?  ')"
   ]
  },
  {
   "cell_type": "code",
   "execution_count": 13,
   "metadata": {},
   "outputs": [
    {
     "data": {
      "text/plain": [
       "'I like strawberry cheesecake more than blueberry cheesecake or chocolate cheesecake.'"
      ]
     },
     "execution_count": 13,
     "metadata": {},
     "output_type": "execute_result"
    }
   ],
   "source": [
    "#Combining words that are hyphenated or space separated\n",
    "re.sub(r'cheese[- ]?cake','cheesecake','I like strawberry cheese cake more than blueberry cheese-cake or chocolate cheesecake.')"
   ]
  },
  {
   "cell_type": "code",
   "execution_count": 14,
   "metadata": {},
   "outputs": [
    {
     "name": "stdout",
     "output_type": "stream",
     "text": [
      "['hi', 'hi', 'hu', 'ho']\n"
     ]
    },
    {
     "data": {
      "text/plain": [
       "['hi', 'hi', 'hu', 'ho']"
      ]
     },
     "execution_count": 14,
     "metadata": {},
     "output_type": "execute_result"
    }
   ],
   "source": [
    "#this matches any character including a newline.\n",
    "print(re.findall(\"h.\", \"hi mahindra Hello human Hel cat shoot\"))\n",
    "['hi', 'hi', 'hu', 'ho']"
   ]
  },
  {
   "cell_type": "code",
   "execution_count": 15,
   "metadata": {},
   "outputs": [
    {
     "name": "stdout",
     "output_type": "stream",
     "text": [
      "['ab', 'abc', 'ab', 'abccc']\n"
     ]
    },
    {
     "data": {
      "text/plain": [
       "['ab', 'abc', 'ab', 'abccc']"
      ]
     },
     "execution_count": 15,
     "metadata": {},
     "output_type": "execute_result"
    }
   ],
   "source": [
    "#Causes the resulting RE to match 0 or more repetitions of the preceding RE, as many repetitions as are possible. ab* will match ‘a’, ‘ab’, or ‘a’ followed by any number of ‘b’s.\n",
    "\n",
    "print(re.findall(\"abc*\", \"a aab aabc abac aaaad abccc\"))\n",
    "['ab', 'abc', 'ab', 'abccc']"
   ]
  },
  {
   "cell_type": "code",
   "execution_count": 16,
   "metadata": {},
   "outputs": [
    {
     "name": "stdout",
     "output_type": "stream",
     "text": [
      "IV\n",
      "False\n"
     ]
    }
   ],
   "source": [
    "regex_1 = r\"^M{0,4}(CM|CD|D?C{0,3})(XC|XL|L?X{0,3})(IX|IV|V?I{0,3})$\" # roman numerals\n",
    "regex_2 = r\"^[7|8|9]\\d{9}$\" # 10 digit number starting with 7/8/9\n",
    "regex_3 = r\"^[a-z][a-z0-9.!#$%&'*+\\/=?^_`{|}~-]+@[a-z]+\\.[a-z]{1-3}$\" # email address\n",
    "regex_4 = r\"^[A-Za-z][A-Za-z0-9\\.\\_\\-]+@[A-Za-z]+\\.[a-z]{1,3}$\" # simplified email address\n",
    "print(str(bool(re.match(regex_4, input()))))"
   ]
  },
  {
   "cell_type": "code",
   "execution_count": null,
   "metadata": {},
   "outputs": [],
   "source": []
  }
 ],
 "metadata": {
  "kernelspec": {
   "display_name": "Python 3",
   "language": "python",
   "name": "python3"
  },
  "language_info": {
   "codemirror_mode": {
    "name": "ipython",
    "version": 3
   },
   "file_extension": ".py",
   "mimetype": "text/x-python",
   "name": "python",
   "nbconvert_exporter": "python",
   "pygments_lexer": "ipython3",
   "version": "3.8.5"
  }
 },
 "nbformat": 4,
 "nbformat_minor": 4
}
